{
 "cells": [
  {
   "cell_type": "markdown",
   "metadata": {},
   "source": [
    "# 챕터2 텐서플로 동작 방식"
   ]
  },
  {
   "cell_type": "markdown",
   "metadata": {},
   "source": [
    "## 1. 계산 그래프의 연산\n",
    "- 텐서 그래프를 구성하고 session.run 을 통해 feed를 흘려주면 결과가 나온다"
   ]
  },
  {
   "cell_type": "code",
   "execution_count": 2,
   "metadata": {},
   "outputs": [],
   "source": [
    "import tensorflow as tf\n",
    "sess = tf.Session()"
   ]
  },
  {
   "cell_type": "code",
   "execution_count": 5,
   "metadata": {},
   "outputs": [
    {
     "name": "stdout",
     "output_type": "stream",
     "text": [
      "3.0\n",
      "9.0\n"
     ]
    }
   ],
   "source": [
    "import numpy as np\n",
    "x_vals = np.array([1., 3.])\n",
    "\n",
    "x_data = tf.placeholder(tf.float32)\n",
    "\n",
    "m_const = tf.constant(3.)\n",
    "my_product = tf.multiply(x_data, m_const)\n",
    "\n",
    "for x_val in x_vals:\n",
    "    print(sess.run(my_product, feed_dict={x_data: x_val}))"
   ]
  },
  {
   "cell_type": "markdown",
   "metadata": {},
   "source": [
    "## 2. 다중 연산 중첩\n",
    "- matrix 연산을 통해 data의 shape이 변경되는 것도 문제없다"
   ]
  },
  {
   "cell_type": "code",
   "execution_count": 6,
   "metadata": {},
   "outputs": [
    {
     "name": "stdout",
     "output_type": "stream",
     "text": [
      "[[12.]\n",
      " [14.]\n",
      " [16.]]\n",
      "[[14.]\n",
      " [16.]\n",
      " [18.]]\n"
     ]
    }
   ],
   "source": [
    "my_array = np.array([[1., 3.], [2., 4.], [3., 5.]])\n",
    "# 3 x 2\n",
    "x_vals = np.array([my_array, my_array + 1])\n",
    "# 2 x [3 x 2]\n",
    "x_data = tf.placeholder(tf.float32, shape=(3, 2))\n",
    "\n",
    "m1 = tf.constant([[1.], [0.]])\n",
    "# 2 x 1\n",
    "m2 = tf.constant([[2.]])\n",
    "# 1 x 1\n",
    "a1 = tf.constant([[10.]])\n",
    "# 1 x 1\n",
    "# graph\n",
    "prod1 = tf.matmul(x_data, m1)\n",
    "# 3 x 2 * 2 x 1 = 3 x 1\n",
    "prod2 = tf.matmul(prod1, m2)\n",
    "# 3 x 1 * 1 x 1 = 3 x 1\n",
    "add1 = tf.add(prod2, a1)\n",
    "# 3 x 1 + 1 x 1\n",
    "\n",
    "for x_val in x_vals:\n",
    "    print(sess.run(add1, feed_dict={x_data: x_val}))"
   ]
  },
  {
   "cell_type": "markdown",
   "metadata": {},
   "source": [
    "- 텐서보드(tensorboard)를 통해 그래프를 시각화 할 수 도 있음"
   ]
  },
  {
   "cell_type": "markdown",
   "metadata": {},
   "source": [
    "## 3. 다층 처리\n",
    "- 그래프는 쌓을수록 비약적으로 복잡해지기에 디버깅을 위한 설정들이 필요함\n",
    "- 연산에 이름을 붙이고 계층 스코프를 설정이 필요해짐\n",
    "- 아래는`이미지` 데이터를 cnn층으로 연산하는 간단한 예제임"
   ]
  },
  {
   "cell_type": "code",
   "execution_count": 7,
   "metadata": {},
   "outputs": [],
   "source": [
    "x_shape = [1,4,4,1]\n",
    "x_val = np.random.uniform(size=x_shape) # uniform 균일한 랜덤 값을 생성\n",
    "\n",
    "x_data = tf.placeholder(tf.float32, shape=x_shape)\n",
    "\n",
    "my_filter = tf.constant(0.25, shape=[2,2,1,1])\n",
    "my_strides = [1,2,2,1]\n",
    "\n",
    "mov_avg_layer = tf.nn.conv2d(x_data, my_filter, my_strides, padding='SAME', name='Moving_Avg_Window')\n",
    "# name값을 사용하면 tensor에 name이 지정됨\n",
    "# (공식) aft_width = (prv_width - filter + 2 * padding_size) / strides + 1"
   ]
  },
  {
   "cell_type": "code",
   "execution_count": 9,
   "metadata": {},
   "outputs": [
    {
     "name": "stdout",
     "output_type": "stream",
     "text": [
      "[[0.93235743 0.9128583 ]\n",
      " [0.9324397  0.8449711 ]]\n"
     ]
    }
   ],
   "source": [
    "def custom_layer(input_matrix):\n",
    "    input_matrix_sqeezed = tf.squeeze(input_matrix)\n",
    "    # squeeze는 빈 차원을 제거해줌 ( [1 x 1 x 1] -> [1])\n",
    "    A = tf.constant([[1., 2.], [-1., 3.]])\n",
    "    b = tf.constant(1., shape=[2, 2])\n",
    "    temp1 = tf.matmul(A, input_matrix_sqeezed)\n",
    "    temp = tf.add(temp1, b)\n",
    "    return tf.sigmoid(temp)\n",
    "\n",
    "with tf.name_scope('Custom_Layer') as scope:\n",
    "    custom_layer1 = custom_layer(mov_avg_layer)\n",
    "# 텐서보드의 그래프 시각화에서 스코프 단위로 관리하게 해줌\n",
    "\n",
    "print(sess.run(custom_layer1, feed_dict={x_data:x_val}))\n",
    "# p.73 [그림3] 참고"
   ]
  },
  {
   "cell_type": "markdown",
   "metadata": {},
   "source": [
    "## 4. 비용 함수(손실 함수) 구현\n",
    "- 모델의 예측 값과 라벨(정답) 값의 거리(손실 함수)를 정의할 수 있음\n",
    "- 손실 함수로 계산된 loss를 줄이는 방향으로 모델을 최적화 할 수 있음"
   ]
  },
  {
   "cell_type": "code",
   "execution_count": 10,
   "metadata": {},
   "outputs": [],
   "source": [
    "import matplotlib.pyplot as plt"
   ]
  },
  {
   "cell_type": "code",
   "execution_count": 11,
   "metadata": {},
   "outputs": [],
   "source": [
    "x_vals = tf.linspace(-1., 1., 500) # (-1 ~ 0 ~ 1)\n",
    "target = tf.constant(0.)"
   ]
  },
  {
   "cell_type": "code",
   "execution_count": 14,
   "metadata": {},
   "outputs": [],
   "source": [
    "# L2 norm\n",
    "l2_y_vals = tf.square(target - x_vals)\n",
    "l2_y_out = sess.run(l2_y_vals)\n",
    "## nn.l2_loss() 는 위 l2 norm / 2 를 뱉어냄"
   ]
  },
  {
   "cell_type": "code",
   "execution_count": 15,
   "metadata": {},
   "outputs": [],
   "source": [
    "# L1 norm\n",
    "l1_y_vals = tf.abs(target - x_vals)\n",
    "l1_y_out = sess.run(l1_y_vals)"
   ]
  },
  {
   "cell_type": "code",
   "execution_count": 16,
   "metadata": {},
   "outputs": [],
   "source": [
    "# pseido-huber\n",
    "# - l1와 l2의 장점만을 취했다고 함\n",
    "delta1 = tf.constant(0.25)\n",
    "phuber1_y_vals = tf.multiply(tf.square(delta1), tf.sqrt(1. + tf.square((target - x_vals) / delta1)) - 1.)\n",
    "phuber1_y_out = sess.run(phuber1_y_vals)"
   ]
  },
  {
   "cell_type": "code",
   "execution_count": 17,
   "metadata": {},
   "outputs": [],
   "source": [
    "x_vals = tf.linspace(-3., 5., 500)\n",
    "target = tf.constant(1.)\n",
    "targets = tf.fill([500,], 1.)\n",
    "\n",
    "# Hinge\n",
    "# - \n",
    "hinge_y_vals = tf.maximum(0., 1. - tf.multiply(target, x_vals))\n",
    "hinge_y_out = sess.run(hinge_y_vals)"
   ]
  },
  {
   "cell_type": "code",
   "execution_count": 18,
   "metadata": {},
   "outputs": [],
   "source": [
    "# cross-entropy\n",
    "# - logistic function\n",
    "# - (0, 1) 두개를 분류할 때 사용함\n",
    "xentropy_y_vals = - tf.multiply(target, tf.log(x_vals)) - tf.multiply((1. - target), tf.log(1. - x_vals))\n",
    "xentropy_y_out = sess.run(xentropy_y_vals)"
   ]
  },
  {
   "cell_type": "code",
   "execution_count": 19,
   "metadata": {},
   "outputs": [],
   "source": [
    "# sigmoid-cross-entropy\n",
    "# - cross-entropy를 통과하기 전에 sigmoid 결과 값을 사용함\n",
    "x_val_input = tf.expand_dims(x_vals, 1)\n",
    "target_input = tf.expand_dims(targets, 1)\n",
    "xentropy_sigmoid_y_vals = tf.nn.sigmoid_cross_entropy_with_logits(labels=target_input, logits=x_val_input)\n",
    "xentropy_sigmoid_y_out = sess.run(xentropy_sigmoid_y_vals)"
   ]
  },
  {
   "cell_type": "code",
   "execution_count": 22,
   "metadata": {},
   "outputs": [],
   "source": [
    "# weighted-cross-entropy\n",
    "# - sigmoid-cross-entropy에 weight를 더함\n",
    "weight = tf.constant(0.5)\n",
    "xentropy_weighted_y_vals = tf.nn.weighted_cross_entropy_with_logits(targets, x_vals, weight)\n",
    "xentropy_weighted_y_out = sess.run(xentropy_weighted_y_vals)"
   ]
  },
  {
   "cell_type": "code",
   "execution_count": 25,
   "metadata": {},
   "outputs": [
    {
     "name": "stdout",
     "output_type": "stream",
     "text": [
      "[1.1601256]\n"
     ]
    }
   ],
   "source": [
    "# softmax-corss-entropy\n",
    "# - softmax 함수(확률의 총 합이 1)를 통해 여럿 분류의 확률을 계산 함\n",
    "unscaled_logits = tf.constant([[1., -3., 10.]])\n",
    "target_dist = tf.constant([[0.1, 0.02, 0.88]])\n",
    "softmax_xentropy = tf.nn.softmax_cross_entropy_with_logits(logits=unscaled_logits, labels=target_dist)\n",
    "print(sess.run(softmax_xentropy))"
   ]
  },
  {
   "cell_type": "code",
   "execution_count": 29,
   "metadata": {},
   "outputs": [
    {
     "name": "stdout",
     "output_type": "stream",
     "text": [
      "[0.00012564]\n"
     ]
    }
   ],
   "source": [
    "# sparse-softmax-cross-entropy\n",
    "# - 한 타겟만을 대상으로 [0., 0., 1.] softmax 하고 계산 함\n",
    "unscaled_logits = tf.constant([[1., -3., 10.]])\n",
    "sparse_target_dist = tf.constant([2])\n",
    "sparse_xentropy = tf.nn.sparse_softmax_cross_entropy_with_logits(logits=unscaled_logits, labels=sparse_target_dist)\n",
    "print(sess.run(sparse_xentropy))"
   ]
  },
  {
   "cell_type": "code",
   "execution_count": 30,
   "metadata": {},
   "outputs": [
    {
     "data": {
      "image/png": "[encoded data removed]",
      "text/plain": [
       "<Figure size 432x288 with 1 Axes>"
      ]
     },
     "metadata": {
      "needs_background": "light"
     },
     "output_type": "display_data"
    }
   ],
   "source": [
    "x_array = sess.run(x_vals)\n",
    "plt.plot(x_array, l2_y_out, 'b-', label='l2 loss')\n",
    "plt.plot(x_array, l1_y_out, 'r--', label='l1 loss')\n",
    "plt.plot(x_array, phuber1_y_out, 'k-.', label='p-huber loss')\n",
    "plt.ylim(-0.2, 0.4)\n",
    "plt.legend(loc='lower right', prop={'size': 11})\n",
    "plt.show()"
   ]
  },
  {
   "cell_type": "code",
   "execution_count": 31,
   "metadata": {},
   "outputs": [
    {
     "data": {
      "image/png": "[encoded data removed]",
      "text/plain": [
       "<Figure size 432x288 with 1 Axes>"
      ]
     },
     "metadata": {
      "needs_background": "light"
     },
     "output_type": "display_data"
    }
   ],
   "source": [
    "x_array = sess.run(x_vals)\n",
    "plt.plot(x_array, hinge_y_out, 'b--', label='hinge loss')\n",
    "plt.plot(x_array, xentropy_y_out, 'r--', label='cross entropy loss')\n",
    "plt.plot(x_array, xentropy_sigmoid_y_out, 'k-.', label='cross entropy sigmoid loss')\n",
    "plt.plot(x_array, xentropy_weighted_y_out, 'g:', label='weighted cross entropy loss')\n",
    "plt.ylim(-1.5, 3)\n",
    "plt.legend(loc='lower right', prop={'size': 11})\n",
    "plt.show()"
   ]
  },
  {
   "cell_type": "markdown",
   "metadata": {},
   "source": [
    "- 다양한 loss 함수들은 학습의 목적, 방향에 따라 적절하게 사용해야 함\n",
    "- p.82 [표 1] 참고"
   ]
  },
  {
   "cell_type": "markdown",
   "metadata": {},
   "source": [
    "## 5. 역전파 구현\n",
    "- loss의 오차를 가지고 역전파(거꾸로) tensor의 값들을 업데이트 해줘야 한다 (loss를 줄이는 방향으로)\n",
    "- 이 때 필요한 파라미터로 학습률(learning_rate), 최적화 방식(optimizer)가 필요하다\n",
    "\n",
    "최적화 알고리즘은 여러가지가 존재하는데 모든 알고리즘은 distance(step by step)에 영향을 많이 받는다.\n",
    "가령, 내가 너무 빨리 다음 스템으로 나아가면 optimal 값을 놓치는 경우가 있고 너무 천천히 가면 학습이 느리거나 optimal 하지 않은 지점에서 수렴할 수 도 있다.\n",
    "이런 문제를 통컬어 (vanishing and exploding gradient problem)라 하는데 여러가지 해결책들이 존재하고 이 책의 마지막 챕터에서 자세하게 알아본다.\n",
    "\n",
    "- tf.train.GradientDescentOptimizer\n",
    "    - 일반적임\n",
    "- tf.train.MomentumOptimizer\n",
    "    - 이전 단계의 일정 비율, 운동량을 반영함\n",
    "- tf.train.AdagradOptimizer\n",
    "    - 변화가 작은 곳엔 큰 학습률, 반대의 경우에는 작은 학습률을 반영함\n",
    "- tf.train.AdadeltaOptimizer\n",
    "    - Adagrad 방식이 너무 빨리 수렴하는 것을 방지하고자 step에 제한을 두고 학습률을 반영함"
   ]
  },
  {
   "cell_type": "markdown",
   "metadata": {},
   "source": [
    "## 6. 일괄 학습과 확률적 학습\n",
    "- data_set이 하나만 있으면 발생하는 문제가 현재 data에 의존하여 학습하게 됨\n",
    "- train도 잘 안되지만 test에는 처참한 결과가 나올 수 있음\n",
    "\n",
    "위 문제로 batch_size(data_set 뭉텅이)를 지정하여 한번에 계산하고 그 결과에 avg만 큼만 역전파 시키게 한다.\n",
    "그리고 batch_size는 변수이기에 `placeholder`의 shape의 첫번째 차원은 `None`으로 두고 진행한다."
   ]
  },
  {
   "cell_type": "code",
   "execution_count": 34,
   "metadata": {},
   "outputs": [
    {
     "name": "stdout",
     "output_type": "stream",
     "text": [
      "Step #5 A = [2.1466115]\n",
      "Loss = [61.29118]\n",
      "Step #10 A = [3.598931]\n",
      "Loss = [42.60878]\n",
      "Step #15 A = [4.772729]\n",
      "Loss = [20.388746]\n",
      "Step #20 A = [5.7235684]\n",
      "Loss = [12.682028]\n",
      "Step #25 A = [6.507857]\n",
      "Loss = [17.224955]\n",
      "Step #30 A = [7.214796]\n",
      "Loss = [15.156887]\n",
      "Step #35 A = [7.7399178]\n",
      "Loss = [2.9356117]\n",
      "Step #40 A = [8.041112]\n",
      "Loss = [2.8013623]\n",
      "Step #45 A = [8.425943]\n",
      "Loss = [4.1367464]\n",
      "Step #50 A = [8.709001]\n",
      "Loss = [0.29369766]\n",
      "Step #55 A = [8.943162]\n",
      "Loss = [0.00369033]\n",
      "Step #60 A = [9.135042]\n",
      "Loss = [3.1998165]\n",
      "Step #65 A = [9.265389]\n",
      "Loss = [0.23138848]\n",
      "Step #70 A = [9.291482]\n",
      "Loss = [0.36289358]\n",
      "Step #75 A = [9.376638]\n",
      "Loss = [4.5032854]\n",
      "Step #80 A = [9.515373]\n",
      "Loss = [5.289356]\n",
      "Step #85 A = [9.647591]\n",
      "Loss = [0.6921221]\n",
      "Step #90 A = [9.7754135]\n",
      "Loss = [0.9752131]\n",
      "Step #95 A = [9.807905]\n",
      "Loss = [0.01553097]\n",
      "Step #100 A = [9.881546]\n",
      "Loss = [2.175944]\n",
      "Step #5 A = [[1.0692612]]\n",
      "Loss = 80.02527\n",
      "Step #10 A = [[2.722555]]\n",
      "Loss = 52.49311\n",
      "Step #15 A = [[4.079996]]\n",
      "Loss = 32.94787\n",
      "Step #20 A = [[5.1648974]]\n",
      "Loss = 22.624502\n",
      "Step #25 A = [[6.042875]]\n",
      "Loss = 13.723536\n",
      "Step #30 A = [[6.749776]]\n",
      "Loss = 10.189123\n",
      "Step #35 A = [[7.3293753]]\n",
      "Loss = 7.6942663\n",
      "Step #40 A = [[7.805553]]\n",
      "Loss = 4.9735518\n",
      "Step #45 A = [[8.173505]]\n",
      "Loss = 3.8921406\n",
      "Step #50 A = [[8.475507]]\n",
      "Loss = 2.460003\n",
      "Step #55 A = [[8.73995]]\n",
      "Loss = 2.3666167\n",
      "Step #60 A = [[8.913093]]\n",
      "Loss = 1.629352\n",
      "Step #65 A = [[9.079909]]\n",
      "Loss = 1.0540245\n",
      "Step #70 A = [[9.210349]]\n",
      "Loss = 1.140385\n",
      "Step #75 A = [[9.291331]]\n",
      "Loss = 0.9318787\n",
      "Step #80 A = [[9.376979]]\n",
      "Loss = 1.8105768\n",
      "Step #85 A = [[9.412276]]\n",
      "Loss = 0.82412827\n",
      "Step #90 A = [[9.524221]]\n",
      "Loss = 1.1966155\n",
      "Step #95 A = [[9.581838]]\n",
      "Loss = 0.9223174\n",
      "Step #100 A = [[9.618338]]\n",
      "Loss = 0.60154706\n"
     ]
    },
    {
     "data": {
      "image/png": "[encoded data removed]",
      "text/plain": [
       "<Figure size 432x288 with 1 Axes>"
      ]
     },
     "metadata": {
      "needs_background": "light"
     },
     "output_type": "display_data"
    }
   ],
   "source": [
    "# Create data\n",
    "x_vals = np.random.normal(1, 0.1, 100)\n",
    "y_vals = np.repeat(10., 100)\n",
    "x_data = tf.placeholder(shape=[1], dtype=tf.float32)\n",
    "y_target = tf.placeholder(shape=[1], dtype=tf.float32)\n",
    "\n",
    "# Create variable (one model parameter = A)\n",
    "A = tf.Variable(tf.random_normal(shape=[1]))\n",
    "\n",
    "# Add operation to graph\n",
    "my_output = tf.multiply(x_data, A)\n",
    "\n",
    "# Add L2 loss operation to graph\n",
    "loss = tf.square(my_output - y_target)\n",
    "\n",
    "# Initialize variables\n",
    "init = tf.initialize_all_variables()\n",
    "sess.run(init)\n",
    "\n",
    "# Create Optimizer\n",
    "my_opt = tf.train.GradientDescentOptimizer(0.02)\n",
    "train_step = my_opt.minimize(loss)\n",
    "\n",
    "loss_stochastic = []\n",
    "# Run Loop\n",
    "for i in range(100):\n",
    "    rand_index = np.random.choice(100)\n",
    "    rand_x = [x_vals[rand_index]]\n",
    "    rand_y = [y_vals[rand_index]]\n",
    "    sess.run(train_step, feed_dict={x_data: rand_x, y_target: rand_y})\n",
    "    if (i+1)%5==0:\n",
    "        print('Step #' + str(i+1) + ' A = ' + str(sess.run(A)))\n",
    "        temp_loss = sess.run(loss, feed_dict={x_data: rand_x, y_target: rand_y})\n",
    "        print('Loss = ' + str(temp_loss))\n",
    "        loss_stochastic.append(temp_loss)\n",
    "        \n",
    "\n",
    "# Batch Training:\n",
    "sess = tf.Session()\n",
    "\n",
    "# Declare batch size\n",
    "batch_size = 20\n",
    "\n",
    "# Create data\n",
    "x_vals = np.random.normal(1, 0.1, 100)\n",
    "y_vals = np.repeat(10., 100)\n",
    "x_data = tf.placeholder(shape=[None, 1], dtype=tf.float32)\n",
    "y_target = tf.placeholder(shape=[None, 1], dtype=tf.float32)\n",
    "\n",
    "# Create variable (one model parameter = A)\n",
    "A = tf.Variable(tf.random_normal(shape=[1,1]))\n",
    "\n",
    "# Add operation to graph\n",
    "my_output = tf.matmul(x_data, A)\n",
    "\n",
    "# Add L2 loss operation to graph\n",
    "loss = tf.reduce_mean(tf.square(my_output - y_target))\n",
    "\n",
    "# Initialize variables\n",
    "init = tf.initialize_all_variables()\n",
    "sess.run(init)\n",
    "\n",
    "# Create Optimizer\n",
    "my_opt = tf.train.GradientDescentOptimizer(0.02)\n",
    "train_step = my_opt.minimize(loss)\n",
    "\n",
    "loss_batch = []\n",
    "# Run Loop\n",
    "for i in range(100):\n",
    "    rand_index = np.random.choice(100, size=batch_size)\n",
    "    rand_x = np.transpose([x_vals[rand_index]])\n",
    "    rand_y = np.transpose([y_vals[rand_index]])\n",
    "    sess.run(train_step, feed_dict={x_data: rand_x, y_target: rand_y})\n",
    "    if (i+1)%5==0:\n",
    "        print('Step #' + str(i+1) + ' A = ' + str(sess.run(A)))\n",
    "        temp_loss = sess.run(loss, feed_dict={x_data: rand_x, y_target: rand_y})\n",
    "        print('Loss = ' + str(temp_loss))\n",
    "        loss_batch.append(temp_loss)\n",
    "        \n",
    "plt.plot(range(0, 100, 5), loss_stochastic, 'b-', label='Stochastic Loss')\n",
    "plt.plot(range(0, 100, 5), loss_batch, 'r--', label='Batch Loss, size=20')\n",
    "plt.legend(loc='upper right', prop={'size': 11})\n",
    "plt.show()"
   ]
  },
  {
   "cell_type": "markdown",
   "metadata": {},
   "source": [
    "## 8. 모델 평가\n",
    "- training도 중요하지만 testing이 더 중요하다\n",
    "\n",
    "test를 통한 모델 평가가 이뤄지지 않은다면 train_data_set에 optimal한 model을 얻을 뿐\n",
    "훈련되지 않는 real data에는 성능이 나쁠 수 있기 때문이다."
   ]
  },
  {
   "cell_type": "code",
   "execution_count": null,
   "metadata": {},
   "outputs": [],
   "source": []
  }
 ],
 "metadata": {
  "kernelspec": {
   "display_name": "Python 3",
   "language": "python",
   "name": "python3"
  },
  "language_info": {
   "codemirror_mode": {
    "name": "ipython",
    "version": 3
   },
   "file_extension": ".py",
   "mimetype": "text/x-python",
   "name": "python",
   "nbconvert_exporter": "python",
   "pygments_lexer": "ipython3",
   "version": "3.5.6"
  }
 },
 "nbformat": 4,
 "nbformat_minor": 2
}
